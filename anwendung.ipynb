{
 "cells": [
  {
   "cell_type": "code",
   "execution_count": 2,
   "metadata": {},
   "outputs": [
    {
     "name": "stdout",
     "output_type": "stream",
     "text": [
      "\u001b[1m1/1\u001b[0m \u001b[32m━━━━━━━━━━━━━━━━━━━━\u001b[0m\u001b[37m\u001b[0m \u001b[1m0s\u001b[0m 42ms/step\n",
      "The predicted class is: Speed limit (20kph)\n"
     ]
    },
    {
     "data": {
      "image/png": "[encoded data removed]",
      "text/plain": [
       "<Figure size 640x480 with 1 Axes>"
      ]
     },
     "metadata": {},
     "output_type": "display_data"
    }
   ],
   "source": [
    "import pandas as pd\n",
    "from tensorflow.keras.models import load_model\n",
    "import numpy as np\n",
    "from PIL import Image\n",
    "import matplotlib.pyplot as plt\n",
    "import tkinter as tk\n",
    "from tkinter import filedialog\n",
    "\n",
    "# Load the CSV file into a DataFrame\n",
    "csv_path = 'classes_readable.csv'\n",
    "class_df = pd.read_csv(csv_path, delimiter=';')\n",
    "\n",
    "#Convert the DataFrame to a dictionary\n",
    "class_labels = dict(zip(class_df['Index'], class_df['Class']))\n",
    "\n",
    "# Print the dictionary to verify\n",
    "#print(class_labels)\n",
    "\n",
    "# Load the trained model\n",
    "model = load_model('traffic_sign_cnn_model.keras')\n",
    "\n",
    "# Function to preprocess the input image\n",
    "def preprocess_image(image_path):\n",
    "    image = Image.open(image_path)\n",
    "    image = image.resize((30, 30))\n",
    "    image_array = np.array(image)\n",
    "    image_array = image_array / 255.0\n",
    "    image_array = np.expand_dims(image_array, axis=0)\n",
    "    return image_array\n",
    "\n",
    "# Function to predict the class of the input image\n",
    "def predict_sign(model, image_array):\n",
    "    predictions = model.predict(image_array)\n",
    "    predicted_class = np.argmax(predictions, axis=1)\n",
    "    return predicted_class[0]\n",
    "\n",
    "def open_file_dialog():\n",
    "    root = tk.Tk()\n",
    "    root.withdraw()  # Close the root window\n",
    "    file_path = filedialog.askopenfilename(filetypes=[(\"Image files\", \"*.jpg *.jpeg *.png\")])\n",
    "    return file_path\n",
    "\n",
    "def main():\n",
    "    image_path = open_file_dialog()\n",
    "    if image_path:  # If a file was selected\n",
    "        image_array = preprocess_image(image_path)\n",
    "        predicted_class = predict_sign(model, image_array)\n",
    "        predicted_label = class_labels[predicted_class]\n",
    "        print(f'The predicted class is: {predicted_label}')\n",
    "        \n",
    "        image = Image.open(image_path)\n",
    "        plt.imshow(image)\n",
    "        plt.title(f'Predicted: {predicted_label}')\n",
    "        plt.axis('off')\n",
    "        plt.show()\n",
    "    else:\n",
    "        print(\"No file selected\")\n",
    "\n",
    "\n",
    "# Example usage\n",
    "main()"
   ]
  }
 ],
 "metadata": {
  "kernelspec": {
   "display_name": "KIProjekt",
   "language": "python",
   "name": "python3"
  },
  "language_info": {
   "codemirror_mode": {
    "name": "ipython",
    "version": 3
   },
   "file_extension": ".py",
   "mimetype": "text/x-python",
   "name": "python",
   "nbconvert_exporter": "python",
   "pygments_lexer": "ipython3",
   "version": "3.12.2"
  }
 },
 "nbformat": 4,
 "nbformat_minor": 2
}
